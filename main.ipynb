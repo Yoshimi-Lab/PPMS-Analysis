{
 "cells": [
  {
   "cell_type": "code",
   "execution_count": null,
   "metadata": {
    "tags": []
   },
   "outputs": [],
   "source": [
    "import ppms, os\n",
    "import numpy as np\n",
    "import matplotlib.pyplot as plt\n",
    "import pandas as pd\n",
    "import util_tr as tr\n",
    "import os.path\n",
    "import importlib\n",
    "importlib.reload(ppms)\n",
    "importlib.reload(tr)\n",
    "\n",
    "pwd = os.getcwd()\n",
    "filepath_Hall = os.path.join(pwd, r\"C:\\Users\\7863094847\\experimental data\\transport\\Hall\\250114_#1523\\4_Hall.csv\")\n",
    "filepath_RT = os.path.join(pwd,r\"C:\\Users\\7863094847\\experimental data\\transport\\Hall\\250114_#1523\\1_RT.dat\")\n",
    "ch_num = [1,2]\n",
    "sample_str = \"#1523\" \n",
    "thickness = 0 # 単位は[m]\n",
    "temp_threshold = 0.1 \n",
    "save_raw = False\n",
    "\n",
    "\n",
    "# 実行\n",
    "ppms.analyze_Hall_multi_temps_ppms(filepath_Hall, ch_num, sample_str, thickness, temp_threshold, save_raw)\n",
    "ppms.analyze_RT_ppms(filepath_RT, ch_num, sample_str, thickness)"
   ]
  }
 ],
 "metadata": {
  "kernelspec": {
   "display_name": "PPMS-Analysis",
   "language": "python",
   "name": "python3"
  },
  "language_info": {
   "codemirror_mode": {
    "name": "ipython",
    "version": 3
   },
   "file_extension": ".py",
   "mimetype": "text/x-python",
   "name": "python",
   "nbconvert_exporter": "python",
   "pygments_lexer": "ipython3",
   "version": "3.13.7"
  }
 },
 "nbformat": 4,
 "nbformat_minor": 4
}
